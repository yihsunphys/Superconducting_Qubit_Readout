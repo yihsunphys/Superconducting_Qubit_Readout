{
 "cells": [
  {
   "cell_type": "code",
   "execution_count": 1,
   "metadata": {},
   "outputs": [],
   "source": [
    "import sys\n",
    "sys.path.append(r\"C:\\Users\\edwin\\Desktop\\SQCLab\\Python\\Script\")\n",
    "\n",
    "import matplotlib.pyplot as plt\n",
    "import numpy as np\n",
    "import lmfit\n",
    "from LogReader import LogHandler"
   ]
  },
  {
   "cell_type": "code",
   "execution_count": 2,
   "metadata": {},
   "outputs": [],
   "source": [
    "def post_rotate(ydata):\n",
    "    from scipy.optimize import minimize_scalar\n",
    "    def rotate_complex(iq, angle):\n",
    "        return (iq) * np.exp(1j * np.pi * angle/180)\n",
    "\n",
    "    def std_q(y, rot_agl_):\n",
    "        iq = rotate_complex(y, rot_agl_)\n",
    "        return np.std(iq.imag)\n",
    "    res = minimize_scalar(lambda agl:std_q(ydata, agl), bounds=[0, 360])\n",
    "    rotation_angle = res.x\n",
    "    ydata = np.real(rotate_complex(ydata,rotation_angle))\n",
    "    return ydata\n",
    "\n",
    "## decay sine\n",
    "\n",
    "def decaysine_resid(params, xdata, ydata = None, std = None):\n",
    "    \n",
    "    amp = params['amp'].value\n",
    "    freq = params['freq'].value\n",
    "    phase = params['phase'].value\n",
    "    decay = params['decay'].value\n",
    "    offset = params['offset'].value\n",
    "\n",
    "    y_model = offset + amp * np.sin(2*np.pi*freq*xdata + phase) * np.exp(-xdata/decay)\n",
    "    if ydata is None:\n",
    "        return y_model\n",
    "    return y_model - ydata\n",
    "\n",
    "def decaysine_guess(xdata, ydata):\n",
    "    fourier = np.fft.fft(ydata)\n",
    "    fft_freqs = np.fft.fftfreq(len(ydata), d=xdata[1]-xdata[0])\n",
    "    fft_phases = np.angle(fourier)\n",
    "    sorted_fourier = np.sort(fourier)\n",
    "    max_ind = np.argwhere(fourier == sorted_fourier[-1])[0][0]\n",
    "    if max_ind == 0:\n",
    "        max_ind = np.argwhere(fourier == sorted_fourier[-2])[0][0]\n",
    "    max_freq = np.abs(fft_freqs[max_ind])\n",
    "    max_phase = fft_phases[max_ind]\n",
    "\n",
    "    yrange = np.max(ydata) - np.min(ydata)\n",
    "    xrange = np.max(xdata) - np.min(xdata)\n",
    "    params = lmfit.create_params(\n",
    "        amp = dict(value = yrange/2, min = 0.25*yrange, max = 2*yrange),\n",
    "        freq = dict(value = max_freq, min = 0.1/xrange, max = 15/xrange),\n",
    "        decay = dict(value = xrange/4, min = 0.0001),\n",
    "        phase = dict(value = max_phase, min = -np.pi, max = np.pi),\n",
    "        offset = dict(value = np.mean(ydata), min = np.min(ydata), max = np.max(ydata))\n",
    "    )\n",
    "    return params\n",
    "\n",
    "def expdecay_resid(params, xdata, ydata = None):\n",
    "    amp = params['amp'].value\n",
    "    decay = params['decay'].value\n",
    "    offset = params['offset'].value\n",
    "\n",
    "    y_model = offset + amp*np.exp(-xdata/decay)\n",
    "    if ydata is None:\n",
    "        return y_model\n",
    "    return y_model - ydata\n",
    "\n",
    "def expdecay_guess(xdata, ydata):\n",
    "    xrange = np.max(xdata) - np.min(xdata)\n",
    "    params = lmfit.create_params(\n",
    "        amp = dict(value = ydata[0] - ydata[1]),\n",
    "        decay = dict(value = xrange/4, min = 0),\n",
    "        offset = dict(value = ydata[-1])\n",
    "    )\n",
    "    return params"
   ]
  },
  {
   "cell_type": "code",
   "execution_count": 24,
   "metadata": {},
   "outputs": [
    {
     "name": "stdout",
     "output_type": "stream",
     "text": [
      "[[Fit Statistics]]\n",
      "    # fitting method   = Powell\n",
      "    # function evals   = 220\n",
      "    # data points      = 21\n",
      "    # variables        = 3\n",
      "    chi-square         = 0.02752423\n",
      "    reduced chi-square = 0.00152912\n",
      "    Akaike info crit   = -133.381430\n",
      "    Bayesian info crit = -130.247863\n",
      "[[Variables]]\n",
      "    amp:     1.26036357 +/- 0.02376631 (1.89%) (init = 0.05949979)\n",
      "    decay:   17.7389569 +/- 1.06455307 (6.00%) (init = 49.63156)\n",
      "    offset: -2.76243340 +/- 0.01784563 (0.65%) (init = -2.798543)\n",
      "[[Correlations]] (unreported correlations are < 0.100)\n",
      "    C(decay, offset) = -0.6513\n",
      "    C(amp, offset)   = -0.5031\n",
      "    C(amp, decay)    = -0.1250\n"
     ]
    }
   ],
   "source": [
    "log = LogHandler(r'C:\\Users\\SQC\\Desktop\\ZCU\\ZCU_Data\\Test045[02]\\2024\\05\\Data_0527\\Test045_T1_002@-1.35mA.hdf5')\n",
    "x,_,y,xname,_,yname = log.output()\n",
    "y = post_rotate(y[0])\n",
    "# y = np.abs(y[0])\n",
    "# y = np.angle(y[0])\n",
    "x=x*1e6\n",
    "\n",
    "# model1 = lmfit.Minimizer(decaysine_resid,decaysine_guess(x,y), fcn_args = (x,), fcn_kws={'ydata': y})\n",
    "model1 = lmfit.Minimizer(expdecay_resid,expdecay_guess(x,y), fcn_args = (x,), fcn_kws={'ydata': y})\n",
    "o1 = model1.minimize(method = 'powell')\n",
    "lmfit.report_fit(o1)\n",
    "r_squared = 1- (o1.residual.var()/np.var(y))"
   ]
  },
  {
   "cell_type": "code",
   "execution_count": 25,
   "metadata": {},
   "outputs": [
    {
     "data": {
      "text/plain": [
       "Text(0.95, 0.15, '$T_1$ = 17.74+/-1.06 $\\\\mu$s\\n    $R^2$ = 0.994')"
      ]
     },
     "execution_count": 25,
     "metadata": {},
     "output_type": "execute_result"
    },
    {
     "data": {
      "image/png": "[encoded data removed]",
      "text/plain": [
       "<Figure size 640x480 with 1 Axes>"
      ]
     },
     "metadata": {},
     "output_type": "display_data"
    }
   ],
   "source": [
    "fig, ax = plt.subplots()\n",
    "plt.ticklabel_format(style = 'sci', scilimits = (-3, 3))\n",
    "ax.set_title('$T_1$ - Fitting result')\n",
    "ax.set_xlabel('duration time(us)')\n",
    "\n",
    "ax.plot(x,y,'o',x,y+o1.residual)\n",
    "textstr = \\\n",
    "    f\"$T_1$ = {o1.uvars['decay']:.2f} $\\mu$s\\n\\\n",
    "    $R^2$ = {r_squared:.3f}\"\n",
    "ax.text(0.95, 0.15, textstr, transform = ax.transAxes, va = 'top', ha = 'right')"
   ]
  }
 ],
 "metadata": {
  "kernelspec": {
   "display_name": ".venv",
   "language": "python",
   "name": "python3"
  },
  "language_info": {
   "codemirror_mode": {
    "name": "ipython",
    "version": 3
   },
   "file_extension": ".py",
   "mimetype": "text/x-python",
   "name": "python",
   "nbconvert_exporter": "python",
   "pygments_lexer": "ipython3",
   "version": "3.8.8"
  },
  "orig_nbformat": 4
 },
 "nbformat": 4,
 "nbformat_minor": 2
}
